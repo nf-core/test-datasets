{
 "cells": [
  {
   "cell_type": "code",
   "execution_count": null,
   "id": "4f020c44",
   "metadata": {},
   "outputs": [],
   "source": [
    "import matplotlib.pyplot as plt"
   ]
  },
  {
   "cell_type": "code",
   "execution_count": null,
   "id": "34ae7638",
   "metadata": {
    "tags": [
     "parameters"
    ]
   },
   "outputs": [],
   "source": [
    "input_dir = None\n",
    "artifact_dir = None\n",
    "cpus = 1\n",
    "n_iter = 10\n",
    "input_filename = None"
   ]
  },
  {
   "cell_type": "markdown",
   "id": "2e06c1a6",
   "metadata": {},
   "source": [
    "## Running from nextflow\n",
    "The parameters are:"
   ]
  },
  {
   "cell_type": "code",
   "execution_count": null,
   "id": "cf657d9d",
   "metadata": {},
   "outputs": [],
   "source": [
    "print(f\"input_dir = {input_dir}\")\n",
    "print(f\"artifact_dir = {artifact_dir}\")\n",
    "print(f\"cpus = {cpus}\")\n",
    "print(f\"n_iter = {n_iter}\")\n",
    "print(f\"input_filename = {input_filename}\")"
   ]
  },
  {
   "cell_type": "markdown",
   "id": "9bd62be5",
   "metadata": {},
   "source": [
    "## Read an input file"
   ]
  },
  {
   "cell_type": "code",
   "execution_count": null,
   "id": "dcf82998",
   "metadata": {},
   "outputs": [],
   "source": [
    "if input_dir is not None:\n",
    "    with open(f\"{input_dir}/{input_filename}\") as f:\n",
    "        print(f.read())"
   ]
  },
  {
   "cell_type": "markdown",
   "id": "afa0bc9a",
   "metadata": {},
   "source": [
    "## Print Hello world `n` times"
   ]
  },
  {
   "cell_type": "code",
   "execution_count": null,
   "id": "82b86bce",
   "metadata": {},
   "outputs": [],
   "source": [
    "for i in range(n_iter):\n",
    "    print(f\"Hello World {i+1}!\")"
   ]
  },
  {
   "cell_type": "markdown",
   "id": "897f45c8",
   "metadata": {},
   "source": [
    "## Include a plot"
   ]
  },
  {
   "cell_type": "code",
   "execution_count": null,
   "id": "6375a7ac",
   "metadata": {},
   "outputs": [],
   "source": [
    "plt.plot(range(10))"
   ]
  },
  {
   "cell_type": "markdown",
   "id": "7f8d19dc",
   "metadata": {},
   "source": [
    "## Write an output file"
   ]
  },
  {
   "cell_type": "code",
   "execution_count": null,
   "id": "18096fed",
   "metadata": {
    "lines_to_next_cell": 0
   },
   "outputs": [],
   "source": [
    "if artifact_dir is not None:\n",
    "    with open(f\"{artifact_dir}/artifact.txt\", 'w') as f:\n",
    "        f.write(\"Hello World!\\n\")"
   ]
  },
  {
   "cell_type": "markdown",
   "id": "5c5b2add",
   "metadata": {},
   "source": []
  }
 ],
 "metadata": {
  "jupytext": {
   "cell_metadata_filter": "tags,-all",
   "main_language": "python",
   "notebook_metadata_filter": "-all"
  }
 },
 "nbformat": 4,
 "nbformat_minor": 5
}
